{
 "cells": [
  {
   "cell_type": "code",
   "execution_count": null,
   "metadata": {},
   "outputs": [],
   "source": [
    "from ultralytics import YOLO\n",
    "\n",
    "model = YOLO(\"yolo11s.pt\")\n",
    "\n",
    "model.train(\n",
    "    project=\"yolo_files\",\n",
    "    name=\"yolo_training\",\n",
    "    data=\"all_data_data.yaml\", \n",
    "    epochs=200,\n",
    "    batch=0.9, \n",
    "    imgsz=1024\n",
    ")\n",
    "\n",
    "# Lidar image is 1024x128\n",
    "# RGB image is 1920x1208\n"
   ]
  },
  {
   "cell_type": "markdown",
   "metadata": {},
   "source": [
    "1. Training ran for 50 minutes @ 300W\n",
    "2. Training ran for 40 minutes @ 320W"
   ]
  },
  {
   "cell_type": "code",
   "execution_count": null,
   "metadata": {},
   "outputs": [],
   "source": [
    "results = model.val()"
   ]
  },
  {
   "cell_type": "markdown",
   "metadata": {},
   "source": [
    "V8:\n",
    "model.train(\n",
    "    project=\"yolo_files\",\n",
    "    name=\"yolo_training\",\n",
    "    data=\"all_data.yaml\", \n",
    "    epochs=200,\n",
    "    batch=30, \n",
    "    imgsz=1024,\n",
    ")\n",
    "\n",
    "P = 0.88 \n",
    "\n",
    "R = 0.848\n",
    "\n",
    "mAP50 = 0.897\n",
    "\n",
    "mAP50-95 = 0.48\n",
    "\n",
    "V11:\n",
    "model.train(\n",
    "    project=\"yolo_files\",\n",
    "    name=\"yolo_training\",\n",
    "    data=\"lidar_data.yaml\", \n",
    "    epochs=200,\n",
    "    batch=0.9, \n",
    "    imgsz=1024\n",
    ")\n",
    "\n",
    "P = 0.852\n",
    " \n",
    "R = 0.838\n",
    "\n",
    "mAP50 = 0.884\n",
    "\n",
    "mAP50-95 = 0.433"
   ]
  },
  {
   "cell_type": "code",
   "execution_count": null,
   "metadata": {},
   "outputs": [],
   "source": [
    "model.save('combinedYoloModel.pt') "
   ]
  },
  {
   "cell_type": "markdown",
   "metadata": {},
   "source": [
    "### View images"
   ]
  },
  {
   "cell_type": "code",
   "execution_count": null,
   "metadata": {},
   "outputs": [],
   "source": [
    "from pathlib import Path\n",
    "\n",
    "dataset_path = \"combined_dataset_links/\"\n",
    "valid_path = dataset_path + \"train/images/\"\n",
    "\n",
    "valid_images = [str(p) for p in Path(valid_path).glob(\"*.png\")]\n",
    "valid_images += [str(p) for p in Path(valid_path).glob(\"*.PNG\")]\n",
    "\n",
    "print(len(valid_images))"
   ]
  },
  {
   "cell_type": "code",
   "execution_count": null,
   "metadata": {},
   "outputs": [],
   "source": [
    "for i in range(10):\n",
    "    results = model(valid_images[-i])\n",
    "    results[0].show()\n",
    "    input()\n"
   ]
  }
 ],
 "metadata": {
  "kernelspec": {
   "display_name": "venv",
   "language": "python",
   "name": "python3"
  },
  "language_info": {
   "codemirror_mode": {
    "name": "ipython",
    "version": 3
   },
   "file_extension": ".py",
   "mimetype": "text/x-python",
   "name": "python",
   "nbconvert_exporter": "python",
   "pygments_lexer": "ipython3",
   "version": "3.10.12"
  }
 },
 "nbformat": 4,
 "nbformat_minor": 2
}
